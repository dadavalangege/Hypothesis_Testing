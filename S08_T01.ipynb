{
 "cells": [
  {
   "cell_type": "markdown",
   "id": "dc4deb94",
   "metadata": {},
   "source": [
    "- Exercici 1\n",
    "Agafa un conjunt de dades de tema esportiu que t'agradi i selecciona un atribut del conjunt de dades. Calcula el p-valor i digues si rebutja la hipòtesi nul·la agafant un alfa de 5%. "
   ]
  },
  {
   "cell_type": "code",
   "execution_count": 3,
   "id": "d7fd2d8f",
   "metadata": {},
   "outputs": [],
   "source": [
    "import pandas as pd\n",
    "import numpy as np\n",
    "import seaborn as sns\n",
    "from scipy import stats\n",
    "from statsmodels.graphics.gofplots import qqplot\n",
    "import matplotlib.pyplot as plt"
   ]
  },
  {
   "cell_type": "code",
   "execution_count": 4,
   "id": "94bdb878",
   "metadata": {
    "scrolled": true
   },
   "outputs": [
    {
     "data": {
      "text/html": [
       "<div>\n",
       "<style scoped>\n",
       "    .dataframe tbody tr th:only-of-type {\n",
       "        vertical-align: middle;\n",
       "    }\n",
       "\n",
       "    .dataframe tbody tr th {\n",
       "        vertical-align: top;\n",
       "    }\n",
       "\n",
       "    .dataframe thead th {\n",
       "        text-align: right;\n",
       "    }\n",
       "</style>\n",
       "<table border=\"1\" class=\"dataframe\">\n",
       "  <thead>\n",
       "    <tr style=\"text-align: right;\">\n",
       "      <th></th>\n",
       "      <th>Name</th>\n",
       "      <th>Jersey Number</th>\n",
       "      <th>Club</th>\n",
       "      <th>Position</th>\n",
       "      <th>Nationality</th>\n",
       "      <th>Age</th>\n",
       "      <th>Appearances</th>\n",
       "      <th>Wins</th>\n",
       "      <th>Losses</th>\n",
       "      <th>Goals</th>\n",
       "      <th>...</th>\n",
       "      <th>Punches</th>\n",
       "      <th>High Claims</th>\n",
       "      <th>Catches</th>\n",
       "      <th>Sweeper clearances</th>\n",
       "      <th>Throw outs</th>\n",
       "      <th>Goal Kicks</th>\n",
       "      <th>Yellow cards</th>\n",
       "      <th>Red cards</th>\n",
       "      <th>Fouls</th>\n",
       "      <th>Offsides</th>\n",
       "    </tr>\n",
       "  </thead>\n",
       "  <tbody>\n",
       "    <tr>\n",
       "      <th>0</th>\n",
       "      <td>Bernd Leno</td>\n",
       "      <td>1.0</td>\n",
       "      <td>Arsenal</td>\n",
       "      <td>Goalkeeper</td>\n",
       "      <td>Germany</td>\n",
       "      <td>28.0</td>\n",
       "      <td>64</td>\n",
       "      <td>28</td>\n",
       "      <td>16</td>\n",
       "      <td>0</td>\n",
       "      <td>...</td>\n",
       "      <td>34.0</td>\n",
       "      <td>26.0</td>\n",
       "      <td>17.0</td>\n",
       "      <td>28.0</td>\n",
       "      <td>375.0</td>\n",
       "      <td>489.0</td>\n",
       "      <td>2</td>\n",
       "      <td>0</td>\n",
       "      <td>0</td>\n",
       "      <td>NaN</td>\n",
       "    </tr>\n",
       "    <tr>\n",
       "      <th>1</th>\n",
       "      <td>Matt Macey</td>\n",
       "      <td>33.0</td>\n",
       "      <td>Arsenal</td>\n",
       "      <td>Goalkeeper</td>\n",
       "      <td>England</td>\n",
       "      <td>26.0</td>\n",
       "      <td>0</td>\n",
       "      <td>0</td>\n",
       "      <td>0</td>\n",
       "      <td>0</td>\n",
       "      <td>...</td>\n",
       "      <td>0.0</td>\n",
       "      <td>0.0</td>\n",
       "      <td>0.0</td>\n",
       "      <td>0.0</td>\n",
       "      <td>0.0</td>\n",
       "      <td>0.0</td>\n",
       "      <td>0</td>\n",
       "      <td>0</td>\n",
       "      <td>0</td>\n",
       "      <td>NaN</td>\n",
       "    </tr>\n",
       "    <tr>\n",
       "      <th>2</th>\n",
       "      <td>Rúnar Alex Rúnarsson</td>\n",
       "      <td>13.0</td>\n",
       "      <td>Arsenal</td>\n",
       "      <td>Goalkeeper</td>\n",
       "      <td>Iceland</td>\n",
       "      <td>25.0</td>\n",
       "      <td>0</td>\n",
       "      <td>0</td>\n",
       "      <td>0</td>\n",
       "      <td>0</td>\n",
       "      <td>...</td>\n",
       "      <td>0.0</td>\n",
       "      <td>0.0</td>\n",
       "      <td>0.0</td>\n",
       "      <td>0.0</td>\n",
       "      <td>0.0</td>\n",
       "      <td>0.0</td>\n",
       "      <td>0</td>\n",
       "      <td>0</td>\n",
       "      <td>0</td>\n",
       "      <td>NaN</td>\n",
       "    </tr>\n",
       "    <tr>\n",
       "      <th>3</th>\n",
       "      <td>Héctor Bellerín</td>\n",
       "      <td>2.0</td>\n",
       "      <td>Arsenal</td>\n",
       "      <td>Defender</td>\n",
       "      <td>Spain</td>\n",
       "      <td>25.0</td>\n",
       "      <td>160</td>\n",
       "      <td>90</td>\n",
       "      <td>37</td>\n",
       "      <td>7</td>\n",
       "      <td>...</td>\n",
       "      <td>NaN</td>\n",
       "      <td>NaN</td>\n",
       "      <td>NaN</td>\n",
       "      <td>NaN</td>\n",
       "      <td>NaN</td>\n",
       "      <td>NaN</td>\n",
       "      <td>23</td>\n",
       "      <td>0</td>\n",
       "      <td>125</td>\n",
       "      <td>8.0</td>\n",
       "    </tr>\n",
       "    <tr>\n",
       "      <th>4</th>\n",
       "      <td>Kieran Tierney</td>\n",
       "      <td>3.0</td>\n",
       "      <td>Arsenal</td>\n",
       "      <td>Defender</td>\n",
       "      <td>Scotland</td>\n",
       "      <td>23.0</td>\n",
       "      <td>16</td>\n",
       "      <td>7</td>\n",
       "      <td>5</td>\n",
       "      <td>1</td>\n",
       "      <td>...</td>\n",
       "      <td>NaN</td>\n",
       "      <td>NaN</td>\n",
       "      <td>NaN</td>\n",
       "      <td>NaN</td>\n",
       "      <td>NaN</td>\n",
       "      <td>NaN</td>\n",
       "      <td>2</td>\n",
       "      <td>0</td>\n",
       "      <td>9</td>\n",
       "      <td>0.0</td>\n",
       "    </tr>\n",
       "  </tbody>\n",
       "</table>\n",
       "<p>5 rows × 59 columns</p>\n",
       "</div>"
      ],
      "text/plain": [
       "                   Name  Jersey Number     Club    Position Nationality   Age  \\\n",
       "0            Bernd Leno            1.0  Arsenal  Goalkeeper     Germany  28.0   \n",
       "1            Matt Macey           33.0  Arsenal  Goalkeeper     England  26.0   \n",
       "2  Rúnar Alex Rúnarsson           13.0  Arsenal  Goalkeeper     Iceland  25.0   \n",
       "3       Héctor Bellerín            2.0  Arsenal    Defender       Spain  25.0   \n",
       "4        Kieran Tierney            3.0  Arsenal    Defender    Scotland  23.0   \n",
       "\n",
       "   Appearances  Wins  Losses  Goals  ...  Punches  High Claims  Catches  \\\n",
       "0           64    28      16      0  ...     34.0         26.0     17.0   \n",
       "1            0     0       0      0  ...      0.0          0.0      0.0   \n",
       "2            0     0       0      0  ...      0.0          0.0      0.0   \n",
       "3          160    90      37      7  ...      NaN          NaN      NaN   \n",
       "4           16     7       5      1  ...      NaN          NaN      NaN   \n",
       "\n",
       "   Sweeper clearances  Throw outs  Goal Kicks  Yellow cards  Red cards Fouls  \\\n",
       "0                28.0       375.0       489.0             2          0     0   \n",
       "1                 0.0         0.0         0.0             0          0     0   \n",
       "2                 0.0         0.0         0.0             0          0     0   \n",
       "3                 NaN         NaN         NaN            23          0   125   \n",
       "4                 NaN         NaN         NaN             2          0     9   \n",
       "\n",
       "   Offsides  \n",
       "0       NaN  \n",
       "1       NaN  \n",
       "2       NaN  \n",
       "3       8.0  \n",
       "4       0.0  \n",
       "\n",
       "[5 rows x 59 columns]"
      ]
     },
     "execution_count": 4,
     "metadata": {},
     "output_type": "execute_result"
    }
   ],
   "source": [
    "premier_df = pd.read_csv('C:\\\\Users\\\\elgab\\\\Desktop\\\\NUBE MEGA\\\\PROGRAMACIÓN\\\\2020-2021\\\\IT_Academy\\\\itinerario DS\\\\bases_datos\\\\premier_league.csv', sep=',')\n",
    "#premier_df = pd.read_csv('C:\\\\Users\\\\formacio\\\\Gabriel De Santis\\\\Datasets\\\\premier_league.csv', sep=',')\n",
    "premier_df.head()"
   ]
  },
  {
   "cell_type": "code",
   "execution_count": 5,
   "id": "c75047c0",
   "metadata": {
    "scrolled": true
   },
   "outputs": [
    {
     "data": {
      "text/plain": [
       "Index(['Name', 'Jersey Number', 'Club', 'Position', 'Nationality', 'Age',\n",
       "       'Appearances', 'Wins', 'Losses', 'Goals', 'Goals per match',\n",
       "       'Headed goals', 'Goals with right foot', 'Goals with left foot',\n",
       "       'Penalties scored', 'Freekicks scored', 'Shots', 'Shots on target',\n",
       "       'Shooting accuracy %', 'Hit woodwork', 'Big chances missed',\n",
       "       'Clean sheets', 'Goals conceded', 'Tackles', 'Tackle success %',\n",
       "       'Last man tackles', 'Blocked shots', 'Interceptions', 'Clearances',\n",
       "       'Headed Clearance', 'Clearances off line', 'Recoveries', 'Duels won',\n",
       "       'Duels lost', 'Successful 50/50s', 'Aerial battles won',\n",
       "       'Aerial battles lost', 'Own goals', 'Errors leading to goal', 'Assists',\n",
       "       'Passes', 'Passes per match', 'Big chances created', 'Crosses',\n",
       "       'Cross accuracy %', 'Through balls', 'Accurate long balls', 'Saves',\n",
       "       'Penalties saved', 'Punches', 'High Claims', 'Catches',\n",
       "       'Sweeper clearances', 'Throw outs', 'Goal Kicks', 'Yellow cards',\n",
       "       'Red cards', 'Fouls', 'Offsides'],\n",
       "      dtype='object')"
      ]
     },
     "execution_count": 5,
     "metadata": {},
     "output_type": "execute_result"
    }
   ],
   "source": [
    "premier_df.columns"
   ]
  },
  {
   "cell_type": "code",
   "execution_count": 6,
   "id": "5203adf1",
   "metadata": {},
   "outputs": [
    {
     "data": {
      "text/plain": [
       "0      NaN\n",
       "1      NaN\n",
       "2      NaN\n",
       "3      NaN\n",
       "4      NaN\n",
       "      ... \n",
       "566    32%\n",
       "567    35%\n",
       "568    27%\n",
       "569     0%\n",
       "570     0%\n",
       "Name: Shooting accuracy %, Length: 571, dtype: object"
      ]
     },
     "execution_count": 6,
     "metadata": {},
     "output_type": "execute_result"
    }
   ],
   "source": [
    "premier_df['Shooting accuracy %']"
   ]
  },
  {
   "cell_type": "code",
   "execution_count": 7,
   "id": "8a46bb56",
   "metadata": {
    "scrolled": false
   },
   "outputs": [
    {
     "data": {
      "text/plain": [
       "29.0    0.082456\n",
       "27.0    0.082456\n",
       "23.0    0.080702\n",
       "28.0    0.077193\n",
       "24.0    0.073684\n",
       "26.0    0.071930\n",
       "20.0    0.068421\n",
       "22.0    0.064912\n",
       "25.0    0.064912\n",
       "31.0    0.054386\n",
       "30.0    0.050877\n",
       "21.0    0.049123\n",
       "19.0    0.047368\n",
       "32.0    0.036842\n",
       "33.0    0.033333\n",
       "18.0    0.022807\n",
       "34.0    0.012281\n",
       "35.0    0.010526\n",
       "17.0    0.005263\n",
       "36.0    0.005263\n",
       "38.0    0.003509\n",
       "37.0    0.001754\n",
       "Name: Age, dtype: float64"
      ]
     },
     "execution_count": 7,
     "metadata": {},
     "output_type": "execute_result"
    }
   ],
   "source": [
    "premier_df.Age.value_counts(normalize=True)"
   ]
  },
  {
   "cell_type": "code",
   "execution_count": 8,
   "id": "6e30a0cf",
   "metadata": {},
   "outputs": [
    {
     "data": {
      "text/plain": [
       "570"
      ]
     },
     "execution_count": 8,
     "metadata": {},
     "output_type": "execute_result"
    }
   ],
   "source": [
    "premier_df.Age.count()"
   ]
  },
  {
   "cell_type": "code",
   "execution_count": 9,
   "id": "b13884b0",
   "metadata": {},
   "outputs": [
    {
     "data": {
      "text/plain": [
       "dtype('float64')"
      ]
     },
     "execution_count": 9,
     "metadata": {},
     "output_type": "execute_result"
    }
   ],
   "source": [
    "premier_df.Age.dtype"
   ]
  },
  {
   "cell_type": "code",
   "execution_count": 10,
   "id": "4c9aeff1",
   "metadata": {},
   "outputs": [
    {
     "data": {
      "text/plain": [
       "1"
      ]
     },
     "execution_count": 10,
     "metadata": {},
     "output_type": "execute_result"
    }
   ],
   "source": [
    "premier_df.Age.isna().sum()"
   ]
  },
  {
   "cell_type": "code",
   "execution_count": 11,
   "id": "4a596152",
   "metadata": {
    "scrolled": true
   },
   "outputs": [
    {
     "data": {
      "text/html": [
       "<div>\n",
       "<style scoped>\n",
       "    .dataframe tbody tr th:only-of-type {\n",
       "        vertical-align: middle;\n",
       "    }\n",
       "\n",
       "    .dataframe tbody tr th {\n",
       "        vertical-align: top;\n",
       "    }\n",
       "\n",
       "    .dataframe thead th {\n",
       "        text-align: right;\n",
       "    }\n",
       "</style>\n",
       "<table border=\"1\" class=\"dataframe\">\n",
       "  <thead>\n",
       "    <tr style=\"text-align: right;\">\n",
       "      <th></th>\n",
       "      <th>Name</th>\n",
       "      <th>Jersey Number</th>\n",
       "      <th>Club</th>\n",
       "      <th>Position</th>\n",
       "      <th>Nationality</th>\n",
       "      <th>Age</th>\n",
       "      <th>Appearances</th>\n",
       "      <th>Wins</th>\n",
       "      <th>Losses</th>\n",
       "      <th>Goals</th>\n",
       "      <th>...</th>\n",
       "      <th>Punches</th>\n",
       "      <th>High Claims</th>\n",
       "      <th>Catches</th>\n",
       "      <th>Sweeper clearances</th>\n",
       "      <th>Throw outs</th>\n",
       "      <th>Goal Kicks</th>\n",
       "      <th>Yellow cards</th>\n",
       "      <th>Red cards</th>\n",
       "      <th>Fouls</th>\n",
       "      <th>Offsides</th>\n",
       "    </tr>\n",
       "  </thead>\n",
       "  <tbody>\n",
       "    <tr>\n",
       "      <th>241</th>\n",
       "      <td>Ezgjan Alioski</td>\n",
       "      <td>10.0</td>\n",
       "      <td>Leeds-United</td>\n",
       "      <td>Midfielder</td>\n",
       "      <td>NaN</td>\n",
       "      <td>NaN</td>\n",
       "      <td>1</td>\n",
       "      <td>1</td>\n",
       "      <td>0</td>\n",
       "      <td>0</td>\n",
       "      <td>...</td>\n",
       "      <td>NaN</td>\n",
       "      <td>NaN</td>\n",
       "      <td>NaN</td>\n",
       "      <td>NaN</td>\n",
       "      <td>NaN</td>\n",
       "      <td>NaN</td>\n",
       "      <td>0</td>\n",
       "      <td>0</td>\n",
       "      <td>1</td>\n",
       "      <td>0.0</td>\n",
       "    </tr>\n",
       "  </tbody>\n",
       "</table>\n",
       "<p>1 rows × 59 columns</p>\n",
       "</div>"
      ],
      "text/plain": [
       "               Name  Jersey Number          Club    Position Nationality  Age  \\\n",
       "241  Ezgjan Alioski           10.0  Leeds-United  Midfielder         NaN  NaN   \n",
       "\n",
       "     Appearances  Wins  Losses  Goals  ...  Punches  High Claims  Catches  \\\n",
       "241            1     1       0      0  ...      NaN          NaN      NaN   \n",
       "\n",
       "     Sweeper clearances  Throw outs  Goal Kicks  Yellow cards  Red cards  \\\n",
       "241                 NaN         NaN         NaN             0          0   \n",
       "\n",
       "    Fouls  Offsides  \n",
       "241     1       0.0  \n",
       "\n",
       "[1 rows x 59 columns]"
      ]
     },
     "execution_count": 11,
     "metadata": {},
     "output_type": "execute_result"
    }
   ],
   "source": [
    "premier_df[premier_df.Age.isna()]"
   ]
  },
  {
   "cell_type": "code",
   "execution_count": 12,
   "id": "77e3cf59",
   "metadata": {
    "scrolled": true
   },
   "outputs": [],
   "source": [
    "premier_df.Age = premier_df.Age.fillna(round(premier_df.Age.mean()))"
   ]
  },
  {
   "cell_type": "code",
   "execution_count": 13,
   "id": "77d470b7",
   "metadata": {
    "scrolled": true
   },
   "outputs": [
    {
     "data": {
      "text/plain": [
       "0"
      ]
     },
     "execution_count": 13,
     "metadata": {},
     "output_type": "execute_result"
    }
   ],
   "source": [
    "premier_df.Age.isna().sum()"
   ]
  },
  {
   "cell_type": "code",
   "execution_count": 14,
   "id": "1b581e10",
   "metadata": {
    "scrolled": false
   },
   "outputs": [
    {
     "data": {
      "text/plain": [
       "<AxesSubplot:xlabel='Age', ylabel='Count'>"
      ]
     },
     "execution_count": 14,
     "metadata": {},
     "output_type": "execute_result"
    },
    {
     "data": {
      "image/png": "[encoded data removed]",
      "text/plain": [
       "<Figure size 432x288 with 1 Axes>"
      ]
     },
     "metadata": {
      "needs_background": "light"
     },
     "output_type": "display_data"
    }
   ],
   "source": [
    "sns.histplot(premier_df.Age, kde=True)"
   ]
  },
  {
   "cell_type": "code",
   "execution_count": 15,
   "id": "33f2dbdf",
   "metadata": {
    "scrolled": true
   },
   "outputs": [
    {
     "data": {
      "image/png": "[encoded data removed]",
      "text/plain": [
       "<Figure size 432x288 with 1 Axes>"
      ]
     },
     "metadata": {
      "needs_background": "light"
     },
     "output_type": "display_data"
    }
   ],
   "source": [
    "qqplot(premier_df.Age, line='s')\n",
    "plt.show()"
   ]
  },
  {
   "cell_type": "code",
   "execution_count": 16,
   "id": "e3861f6a",
   "metadata": {},
   "outputs": [
    {
     "name": "stdout",
     "output_type": "stream",
     "text": [
      "Statistics=0.981, p=0.000\n"
     ]
    }
   ],
   "source": [
    "stat, p = stats.shapiro(premier_df.Age)\n",
    "print('Statistics=%.3f, p=%.3f' % (stat, p))"
   ]
  },
  {
   "cell_type": "markdown",
   "id": "b7fd3308",
   "metadata": {},
   "source": [
    "- Exercici 2\n",
    "Continua amb el conjunt de dades de tema esportiu que t'agradi i selecciona dos altres atributs del conjunt de dades. Calcula els p-valors i digues si rebutgen la hipòtesi nul·la agafant un alfa de 5%."
   ]
  },
  {
   "cell_type": "code",
   "execution_count": 17,
   "id": "48c7bfb3",
   "metadata": {
    "scrolled": true
   },
   "outputs": [
    {
     "name": "stdout",
     "output_type": "stream",
     "text": [
      "8\n",
      "563\n"
     ]
    }
   ],
   "source": [
    "print(premier_df['Jersey Number'].isnull().sum())\n",
    "print(premier_df['Jersey Number'].count())"
   ]
  },
  {
   "cell_type": "code",
   "execution_count": 18,
   "id": "b51b6da6",
   "metadata": {},
   "outputs": [],
   "source": [
    "premier_copy = premier_df.sort_values(by='Position').copy(deep=True)"
   ]
  },
  {
   "cell_type": "code",
   "execution_count": 19,
   "id": "c349fc50",
   "metadata": {},
   "outputs": [
    {
     "data": {
      "text/plain": [
       "0"
      ]
     },
     "execution_count": 19,
     "metadata": {},
     "output_type": "execute_result"
    }
   ],
   "source": [
    "premier_copy['Jersey Number'] = premier_copy['Jersey Number'].fillna(method='bfill')\n",
    "premier_copy['Jersey Number'].isna().sum()"
   ]
  },
  {
   "cell_type": "code",
   "execution_count": 20,
   "id": "e8b9cb91",
   "metadata": {},
   "outputs": [],
   "source": [
    "premier_copy['Jersey Number'] = premier_copy['Jersey Number'].astype('int64').astype('string').astype('category')"
   ]
  },
  {
   "cell_type": "code",
   "execution_count": 21,
   "id": "6b0a1aea",
   "metadata": {},
   "outputs": [],
   "source": [
    "premier_copy.Position = premier_copy.Position.astype('category')"
   ]
  },
  {
   "cell_type": "code",
   "execution_count": 22,
   "id": "2c73448e",
   "metadata": {},
   "outputs": [
    {
     "data": {
      "text/html": [
       "<div>\n",
       "<style scoped>\n",
       "    .dataframe tbody tr th:only-of-type {\n",
       "        vertical-align: middle;\n",
       "    }\n",
       "\n",
       "    .dataframe tbody tr th {\n",
       "        vertical-align: top;\n",
       "    }\n",
       "\n",
       "    .dataframe thead th {\n",
       "        text-align: right;\n",
       "    }\n",
       "</style>\n",
       "<table border=\"1\" class=\"dataframe\">\n",
       "  <thead>\n",
       "    <tr style=\"text-align: right;\">\n",
       "      <th>Jersey Number</th>\n",
       "      <th>1</th>\n",
       "      <th>10</th>\n",
       "      <th>11</th>\n",
       "      <th>12</th>\n",
       "      <th>13</th>\n",
       "      <th>14</th>\n",
       "      <th>15</th>\n",
       "      <th>16</th>\n",
       "      <th>17</th>\n",
       "      <th>18</th>\n",
       "      <th>...</th>\n",
       "      <th>67</th>\n",
       "      <th>69</th>\n",
       "      <th>7</th>\n",
       "      <th>71</th>\n",
       "      <th>72</th>\n",
       "      <th>73</th>\n",
       "      <th>76</th>\n",
       "      <th>8</th>\n",
       "      <th>82</th>\n",
       "      <th>9</th>\n",
       "    </tr>\n",
       "    <tr>\n",
       "      <th>Position</th>\n",
       "      <th></th>\n",
       "      <th></th>\n",
       "      <th></th>\n",
       "      <th></th>\n",
       "      <th></th>\n",
       "      <th></th>\n",
       "      <th></th>\n",
       "      <th></th>\n",
       "      <th></th>\n",
       "      <th></th>\n",
       "      <th></th>\n",
       "      <th></th>\n",
       "      <th></th>\n",
       "      <th></th>\n",
       "      <th></th>\n",
       "      <th></th>\n",
       "      <th></th>\n",
       "      <th></th>\n",
       "      <th></th>\n",
       "      <th></th>\n",
       "      <th></th>\n",
       "    </tr>\n",
       "  </thead>\n",
       "  <tbody>\n",
       "    <tr>\n",
       "      <th>Defender</th>\n",
       "      <td>0</td>\n",
       "      <td>0</td>\n",
       "      <td>1</td>\n",
       "      <td>5</td>\n",
       "      <td>3</td>\n",
       "      <td>3</td>\n",
       "      <td>4</td>\n",
       "      <td>4</td>\n",
       "      <td>1</td>\n",
       "      <td>5</td>\n",
       "      <td>...</td>\n",
       "      <td>0</td>\n",
       "      <td>0</td>\n",
       "      <td>0</td>\n",
       "      <td>1</td>\n",
       "      <td>1</td>\n",
       "      <td>0</td>\n",
       "      <td>1</td>\n",
       "      <td>0</td>\n",
       "      <td>0</td>\n",
       "      <td>0</td>\n",
       "    </tr>\n",
       "    <tr>\n",
       "      <th>Forward</th>\n",
       "      <td>0</td>\n",
       "      <td>8</td>\n",
       "      <td>9</td>\n",
       "      <td>3</td>\n",
       "      <td>2</td>\n",
       "      <td>5</td>\n",
       "      <td>1</td>\n",
       "      <td>1</td>\n",
       "      <td>6</td>\n",
       "      <td>2</td>\n",
       "      <td>...</td>\n",
       "      <td>0</td>\n",
       "      <td>0</td>\n",
       "      <td>10</td>\n",
       "      <td>0</td>\n",
       "      <td>0</td>\n",
       "      <td>0</td>\n",
       "      <td>0</td>\n",
       "      <td>0</td>\n",
       "      <td>0</td>\n",
       "      <td>19</td>\n",
       "    </tr>\n",
       "    <tr>\n",
       "      <th>Goalkeeper</th>\n",
       "      <td>16</td>\n",
       "      <td>0</td>\n",
       "      <td>1</td>\n",
       "      <td>4</td>\n",
       "      <td>5</td>\n",
       "      <td>0</td>\n",
       "      <td>1</td>\n",
       "      <td>0</td>\n",
       "      <td>0</td>\n",
       "      <td>1</td>\n",
       "      <td>...</td>\n",
       "      <td>0</td>\n",
       "      <td>0</td>\n",
       "      <td>0</td>\n",
       "      <td>0</td>\n",
       "      <td>0</td>\n",
       "      <td>2</td>\n",
       "      <td>0</td>\n",
       "      <td>0</td>\n",
       "      <td>0</td>\n",
       "      <td>0</td>\n",
       "    </tr>\n",
       "    <tr>\n",
       "      <th>Midfielder</th>\n",
       "      <td>0</td>\n",
       "      <td>12</td>\n",
       "      <td>8</td>\n",
       "      <td>3</td>\n",
       "      <td>2</td>\n",
       "      <td>6</td>\n",
       "      <td>7</td>\n",
       "      <td>7</td>\n",
       "      <td>8</td>\n",
       "      <td>8</td>\n",
       "      <td>...</td>\n",
       "      <td>1</td>\n",
       "      <td>1</td>\n",
       "      <td>9</td>\n",
       "      <td>0</td>\n",
       "      <td>0</td>\n",
       "      <td>0</td>\n",
       "      <td>0</td>\n",
       "      <td>19</td>\n",
       "      <td>1</td>\n",
       "      <td>0</td>\n",
       "    </tr>\n",
       "  </tbody>\n",
       "</table>\n",
       "<p>4 rows × 67 columns</p>\n",
       "</div>"
      ],
      "text/plain": [
       "Jersey Number   1  10  11  12  13  14  15  16  17  18  ...  67  69   7  71  \\\n",
       "Position                                               ...                   \n",
       "Defender        0   0   1   5   3   3   4   4   1   5  ...   0   0   0   1   \n",
       "Forward         0   8   9   3   2   5   1   1   6   2  ...   0   0  10   0   \n",
       "Goalkeeper     16   0   1   4   5   0   1   0   0   1  ...   0   0   0   0   \n",
       "Midfielder      0  12   8   3   2   6   7   7   8   8  ...   1   1   9   0   \n",
       "\n",
       "Jersey Number  72  73  76   8  82   9  \n",
       "Position                               \n",
       "Defender        1   0   1   0   0   0  \n",
       "Forward         0   0   0   0   0  19  \n",
       "Goalkeeper      0   2   0   0   0   0  \n",
       "Midfielder      0   0   0  19   1   0  \n",
       "\n",
       "[4 rows x 67 columns]"
      ]
     },
     "execution_count": 22,
     "metadata": {},
     "output_type": "execute_result"
    }
   ],
   "source": [
    "table = pd.crosstab(premier_copy.Position, premier_copy['Jersey Number'])\n",
    "table"
   ]
  },
  {
   "cell_type": "code",
   "execution_count": 23,
   "id": "5558abbf",
   "metadata": {},
   "outputs": [],
   "source": [
    "stat, p, dof, expected = stats.chi2_contingency(table)"
   ]
  },
  {
   "cell_type": "code",
   "execution_count": 24,
   "id": "8f9bed03",
   "metadata": {},
   "outputs": [
    {
     "data": {
      "text/plain": [
       "9.819388257706459e-43"
      ]
     },
     "execution_count": 24,
     "metadata": {},
     "output_type": "execute_result"
    }
   ],
   "source": [
    "p"
   ]
  },
  {
   "cell_type": "code",
   "execution_count": 25,
   "id": "ea8c8397",
   "metadata": {},
   "outputs": [
    {
     "name": "stdout",
     "output_type": "stream",
     "text": [
      "Dependent (reject H0)\n"
     ]
    }
   ],
   "source": [
    "prob = 0.95\n",
    "alpha = 1.0 - prob\n",
    "\n",
    "if p <= alpha:\n",
    "    print('Dependent (reject H0)')\n",
    "else:\n",
    "    print('Independent (fail to reject H0)')"
   ]
  },
  {
   "cell_type": "code",
   "execution_count": null,
   "id": "cd646571",
   "metadata": {},
   "outputs": [],
   "source": []
  },
  {
   "cell_type": "code",
   "execution_count": null,
   "id": "1fa6c50f",
   "metadata": {},
   "outputs": [],
   "source": []
  },
  {
   "cell_type": "code",
   "execution_count": null,
   "id": "98bf1a94",
   "metadata": {},
   "outputs": [],
   "source": []
  },
  {
   "cell_type": "code",
   "execution_count": 26,
   "id": "714eea77",
   "metadata": {
    "scrolled": false
   },
   "outputs": [
    {
     "data": {
      "text/plain": [
       "['Name',\n",
       " 'Club',\n",
       " 'Position',\n",
       " 'Age',\n",
       " 'Appearances',\n",
       " 'Wins',\n",
       " 'Losses',\n",
       " 'Goals',\n",
       " 'Assists',\n",
       " 'Passes',\n",
       " 'Passes per match',\n",
       " 'Yellow cards',\n",
       " 'Red cards',\n",
       " 'Fouls']"
      ]
     },
     "execution_count": 26,
     "metadata": {},
     "output_type": "execute_result"
    }
   ],
   "source": [
    "null = premier_df.isna().sum() / len(premier_df) *100\n",
    "not_null = list(null[null == 0].index)\n",
    "not_null"
   ]
  },
  {
   "cell_type": "markdown",
   "id": "61e5d314",
   "metadata": {},
   "source": [
    "Només jugadors que hagin participat a almenys 10 partits."
   ]
  },
  {
   "cell_type": "code",
   "execution_count": 27,
   "id": "411d5551",
   "metadata": {
    "scrolled": true
   },
   "outputs": [
    {
     "data": {
      "text/html": [
       "<div>\n",
       "<style scoped>\n",
       "    .dataframe tbody tr th:only-of-type {\n",
       "        vertical-align: middle;\n",
       "    }\n",
       "\n",
       "    .dataframe tbody tr th {\n",
       "        vertical-align: top;\n",
       "    }\n",
       "\n",
       "    .dataframe thead th {\n",
       "        text-align: right;\n",
       "    }\n",
       "</style>\n",
       "<table border=\"1\" class=\"dataframe\">\n",
       "  <thead>\n",
       "    <tr style=\"text-align: right;\">\n",
       "      <th></th>\n",
       "      <th>Name</th>\n",
       "      <th>Club</th>\n",
       "      <th>Position</th>\n",
       "      <th>Age</th>\n",
       "      <th>Appearances</th>\n",
       "      <th>Wins</th>\n",
       "      <th>Losses</th>\n",
       "      <th>Goals</th>\n",
       "      <th>Assists</th>\n",
       "      <th>Passes</th>\n",
       "      <th>Passes per match</th>\n",
       "      <th>Yellow cards</th>\n",
       "      <th>Red cards</th>\n",
       "      <th>Fouls</th>\n",
       "    </tr>\n",
       "  </thead>\n",
       "  <tbody>\n",
       "    <tr>\n",
       "      <th>0</th>\n",
       "      <td>Bernd Leno</td>\n",
       "      <td>Arsenal</td>\n",
       "      <td>Goalkeeper</td>\n",
       "      <td>28.0</td>\n",
       "      <td>64</td>\n",
       "      <td>28</td>\n",
       "      <td>16</td>\n",
       "      <td>0</td>\n",
       "      <td>0</td>\n",
       "      <td>1783</td>\n",
       "      <td>27.86</td>\n",
       "      <td>2</td>\n",
       "      <td>0</td>\n",
       "      <td>0</td>\n",
       "    </tr>\n",
       "    <tr>\n",
       "      <th>3</th>\n",
       "      <td>Héctor Bellerín</td>\n",
       "      <td>Arsenal</td>\n",
       "      <td>Defender</td>\n",
       "      <td>25.0</td>\n",
       "      <td>160</td>\n",
       "      <td>90</td>\n",
       "      <td>37</td>\n",
       "      <td>7</td>\n",
       "      <td>18</td>\n",
       "      <td>7125</td>\n",
       "      <td>44.53</td>\n",
       "      <td>23</td>\n",
       "      <td>0</td>\n",
       "      <td>125</td>\n",
       "    </tr>\n",
       "    <tr>\n",
       "      <th>4</th>\n",
       "      <td>Kieran Tierney</td>\n",
       "      <td>Arsenal</td>\n",
       "      <td>Defender</td>\n",
       "      <td>23.0</td>\n",
       "      <td>16</td>\n",
       "      <td>7</td>\n",
       "      <td>5</td>\n",
       "      <td>1</td>\n",
       "      <td>1</td>\n",
       "      <td>519</td>\n",
       "      <td>32.44</td>\n",
       "      <td>2</td>\n",
       "      <td>0</td>\n",
       "      <td>9</td>\n",
       "    </tr>\n",
       "    <tr>\n",
       "      <th>6</th>\n",
       "      <td>Sokratis</td>\n",
       "      <td>Arsenal</td>\n",
       "      <td>Defender</td>\n",
       "      <td>32.0</td>\n",
       "      <td>44</td>\n",
       "      <td>21</td>\n",
       "      <td>11</td>\n",
       "      <td>3</td>\n",
       "      <td>2</td>\n",
       "      <td>2416</td>\n",
       "      <td>54.91</td>\n",
       "      <td>18</td>\n",
       "      <td>0</td>\n",
       "      <td>56</td>\n",
       "    </tr>\n",
       "    <tr>\n",
       "      <th>7</th>\n",
       "      <td>Rob Holding</td>\n",
       "      <td>Arsenal</td>\n",
       "      <td>Defender</td>\n",
       "      <td>25.0</td>\n",
       "      <td>41</td>\n",
       "      <td>25</td>\n",
       "      <td>9</td>\n",
       "      <td>0</td>\n",
       "      <td>0</td>\n",
       "      <td>2200</td>\n",
       "      <td>53.66</td>\n",
       "      <td>8</td>\n",
       "      <td>0</td>\n",
       "      <td>32</td>\n",
       "    </tr>\n",
       "    <tr>\n",
       "      <th>...</th>\n",
       "      <td>...</td>\n",
       "      <td>...</td>\n",
       "      <td>...</td>\n",
       "      <td>...</td>\n",
       "      <td>...</td>\n",
       "      <td>...</td>\n",
       "      <td>...</td>\n",
       "      <td>...</td>\n",
       "      <td>...</td>\n",
       "      <td>...</td>\n",
       "      <td>...</td>\n",
       "      <td>...</td>\n",
       "      <td>...</td>\n",
       "      <td>...</td>\n",
       "    </tr>\n",
       "    <tr>\n",
       "      <th>562</th>\n",
       "      <td>João Moutinho</td>\n",
       "      <td>Wolverhampton-Wanderers</td>\n",
       "      <td>Midfielder</td>\n",
       "      <td>34.0</td>\n",
       "      <td>78</td>\n",
       "      <td>32</td>\n",
       "      <td>23</td>\n",
       "      <td>2</td>\n",
       "      <td>14</td>\n",
       "      <td>3778</td>\n",
       "      <td>48.44</td>\n",
       "      <td>11</td>\n",
       "      <td>0</td>\n",
       "      <td>95</td>\n",
       "    </tr>\n",
       "    <tr>\n",
       "      <th>563</th>\n",
       "      <td>Leander Dendoncker</td>\n",
       "      <td>Wolverhampton-Wanderers</td>\n",
       "      <td>Midfielder</td>\n",
       "      <td>25.0</td>\n",
       "      <td>59</td>\n",
       "      <td>26</td>\n",
       "      <td>15</td>\n",
       "      <td>6</td>\n",
       "      <td>0</td>\n",
       "      <td>1966</td>\n",
       "      <td>33.32</td>\n",
       "      <td>6</td>\n",
       "      <td>0</td>\n",
       "      <td>43</td>\n",
       "    </tr>\n",
       "    <tr>\n",
       "      <th>566</th>\n",
       "      <td>Pedro Neto</td>\n",
       "      <td>Wolverhampton-Wanderers</td>\n",
       "      <td>Forward</td>\n",
       "      <td>20.0</td>\n",
       "      <td>31</td>\n",
       "      <td>14</td>\n",
       "      <td>7</td>\n",
       "      <td>3</td>\n",
       "      <td>4</td>\n",
       "      <td>399</td>\n",
       "      <td>12.87</td>\n",
       "      <td>3</td>\n",
       "      <td>0</td>\n",
       "      <td>16</td>\n",
       "    </tr>\n",
       "    <tr>\n",
       "      <th>567</th>\n",
       "      <td>Raúl Jiménez</td>\n",
       "      <td>Wolverhampton-Wanderers</td>\n",
       "      <td>Forward</td>\n",
       "      <td>29.0</td>\n",
       "      <td>78</td>\n",
       "      <td>32</td>\n",
       "      <td>23</td>\n",
       "      <td>32</td>\n",
       "      <td>13</td>\n",
       "      <td>2108</td>\n",
       "      <td>27.03</td>\n",
       "      <td>7</td>\n",
       "      <td>0</td>\n",
       "      <td>81</td>\n",
       "    </tr>\n",
       "    <tr>\n",
       "      <th>568</th>\n",
       "      <td>Adama Traoré</td>\n",
       "      <td>Wolverhampton-Wanderers</td>\n",
       "      <td>Forward</td>\n",
       "      <td>24.0</td>\n",
       "      <td>105</td>\n",
       "      <td>27</td>\n",
       "      <td>47</td>\n",
       "      <td>5</td>\n",
       "      <td>12</td>\n",
       "      <td>1434</td>\n",
       "      <td>13.66</td>\n",
       "      <td>4</td>\n",
       "      <td>0</td>\n",
       "      <td>80</td>\n",
       "    </tr>\n",
       "  </tbody>\n",
       "</table>\n",
       "<p>397 rows × 14 columns</p>\n",
       "</div>"
      ],
      "text/plain": [
       "                   Name                     Club    Position   Age  \\\n",
       "0            Bernd Leno                  Arsenal  Goalkeeper  28.0   \n",
       "3       Héctor Bellerín                  Arsenal    Defender  25.0   \n",
       "4        Kieran Tierney                  Arsenal    Defender  23.0   \n",
       "6              Sokratis                  Arsenal    Defender  32.0   \n",
       "7           Rob Holding                  Arsenal    Defender  25.0   \n",
       "..                  ...                      ...         ...   ...   \n",
       "562       João Moutinho  Wolverhampton-Wanderers  Midfielder  34.0   \n",
       "563  Leander Dendoncker  Wolverhampton-Wanderers  Midfielder  25.0   \n",
       "566          Pedro Neto  Wolverhampton-Wanderers     Forward  20.0   \n",
       "567        Raúl Jiménez  Wolverhampton-Wanderers     Forward  29.0   \n",
       "568        Adama Traoré  Wolverhampton-Wanderers     Forward  24.0   \n",
       "\n",
       "     Appearances  Wins  Losses  Goals  Assists  Passes  Passes per match  \\\n",
       "0             64    28      16      0        0    1783             27.86   \n",
       "3            160    90      37      7       18    7125             44.53   \n",
       "4             16     7       5      1        1     519             32.44   \n",
       "6             44    21      11      3        2    2416             54.91   \n",
       "7             41    25       9      0        0    2200             53.66   \n",
       "..           ...   ...     ...    ...      ...     ...               ...   \n",
       "562           78    32      23      2       14    3778             48.44   \n",
       "563           59    26      15      6        0    1966             33.32   \n",
       "566           31    14       7      3        4     399             12.87   \n",
       "567           78    32      23     32       13    2108             27.03   \n",
       "568          105    27      47      5       12    1434             13.66   \n",
       "\n",
       "     Yellow cards  Red cards  Fouls  \n",
       "0               2          0      0  \n",
       "3              23          0    125  \n",
       "4               2          0      9  \n",
       "6              18          0     56  \n",
       "7               8          0     32  \n",
       "..            ...        ...    ...  \n",
       "562            11          0     95  \n",
       "563             6          0     43  \n",
       "566             3          0     16  \n",
       "567             7          0     81  \n",
       "568             4          0     80  \n",
       "\n",
       "[397 rows x 14 columns]"
      ]
     },
     "execution_count": 27,
     "metadata": {},
     "output_type": "execute_result"
    }
   ],
   "source": [
    "premier = premier_df[not_null].copy(deep=True)\n",
    "premier = premier[premier.Appearances > 10]\n",
    "premier"
   ]
  },
  {
   "cell_type": "code",
   "execution_count": 28,
   "id": "7af7c23b",
   "metadata": {
    "scrolled": false
   },
   "outputs": [
    {
     "data": {
      "text/plain": [
       "<AxesSubplot:xlabel='Wins_per_match', ylabel='Count'>"
      ]
     },
     "execution_count": 28,
     "metadata": {},
     "output_type": "execute_result"
    },
    {
     "data": {
      "image/png": "[encoded data removed]",
      "text/plain": [
       "<Figure size 432x288 with 1 Axes>"
      ]
     },
     "metadata": {
      "needs_background": "light"
     },
     "output_type": "display_data"
    }
   ],
   "source": [
    "premier['Wins_per_match'] = premier.Wins / premier.Appearances\n",
    "sns.histplot(premier.Wins_per_match, kde=True)"
   ]
  },
  {
   "cell_type": "code",
   "execution_count": 29,
   "id": "12aa2055",
   "metadata": {
    "scrolled": false
   },
   "outputs": [
    {
     "data": {
      "text/plain": [
       "<AxesSubplot:xlabel='Goals_per_match', ylabel='Count'>"
      ]
     },
     "execution_count": 29,
     "metadata": {},
     "output_type": "execute_result"
    },
    {
     "data": {
      "image/png": "[encoded data removed]",
      "text/plain": [
       "<Figure size 432x288 with 1 Axes>"
      ]
     },
     "metadata": {
      "needs_background": "light"
     },
     "output_type": "display_data"
    }
   ],
   "source": [
    "premier['Goals_per_match'] = premier.Goals / premier.Appearances\n",
    "sns.histplot(premier.Goals_per_match, kde=True)"
   ]
  },
  {
   "cell_type": "code",
   "execution_count": 30,
   "id": "cd9e441a",
   "metadata": {
    "scrolled": true
   },
   "outputs": [
    {
     "data": {
      "text/plain": [
       "<AxesSubplot:xlabel='Assists_per_match', ylabel='Count'>"
      ]
     },
     "execution_count": 30,
     "metadata": {},
     "output_type": "execute_result"
    },
    {
     "data": {
      "image/png": "[encoded data removed]",
      "text/plain": [
       "<Figure size 432x288 with 1 Axes>"
      ]
     },
     "metadata": {
      "needs_background": "light"
     },
     "output_type": "display_data"
    }
   ],
   "source": [
    "premier['Assists_per_match'] = premier.Assists / premier.Appearances\n",
    "sns.histplot(premier.Assists_per_match, kde=True)"
   ]
  },
  {
   "cell_type": "code",
   "execution_count": 31,
   "id": "404c625a",
   "metadata": {},
   "outputs": [
    {
     "data": {
      "text/plain": [
       "<AxesSubplot:xlabel='Yellow_per_match', ylabel='Count'>"
      ]
     },
     "execution_count": 31,
     "metadata": {},
     "output_type": "execute_result"
    },
    {
     "data": {
      "image/png": "[encoded data removed]",
      "text/plain": [
       "<Figure size 432x288 with 1 Axes>"
      ]
     },
     "metadata": {
      "needs_background": "light"
     },
     "output_type": "display_data"
    }
   ],
   "source": [
    "premier['Yellow_per_match'] = premier['Yellow cards'] / premier.Appearances\n",
    "sns.histplot(premier.Yellow_per_match, kde=True)"
   ]
  },
  {
   "cell_type": "code",
   "execution_count": 32,
   "id": "5ccc2bad",
   "metadata": {},
   "outputs": [
    {
     "data": {
      "text/plain": [
       "<AxesSubplot:xlabel='Red_per_match', ylabel='Count'>"
      ]
     },
     "execution_count": 32,
     "metadata": {},
     "output_type": "execute_result"
    },
    {
     "data": {
      "image/png": "[encoded data removed]",
      "text/plain": [
       "<Figure size 432x288 with 1 Axes>"
      ]
     },
     "metadata": {
      "needs_background": "light"
     },
     "output_type": "display_data"
    }
   ],
   "source": [
    "premier['Red_per_match'] = premier['Red cards'] / premier.Appearances\n",
    "sns.histplot(premier.Red_per_match, kde=True)"
   ]
  },
  {
   "cell_type": "code",
   "execution_count": 33,
   "id": "ed8ccbbe",
   "metadata": {
    "scrolled": true
   },
   "outputs": [
    {
     "data": {
      "text/plain": [
       "<AxesSubplot:xlabel='Fouls_per_match', ylabel='Count'>"
      ]
     },
     "execution_count": 33,
     "metadata": {},
     "output_type": "execute_result"
    },
    {
     "data": {
      "image/png": "[encoded data removed]",
      "text/plain": [
       "<Figure size 432x288 with 1 Axes>"
      ]
     },
     "metadata": {
      "needs_background": "light"
     },
     "output_type": "display_data"
    }
   ],
   "source": [
    "premier['Fouls_per_match'] = premier.Fouls / premier.Appearances\n",
    "sns.histplot(premier.Fouls_per_match, kde=True)"
   ]
  },
  {
   "cell_type": "code",
   "execution_count": 34,
   "id": "a8dd4fea",
   "metadata": {},
   "outputs": [],
   "source": [
    "corrs_variables = premier[['Name', 'Club', 'Position', 'Age', 'Appearances', 'Passes per match', 'Wins_per_match', 'Assists_per_match', 'Yellow_per_match', 'Red_per_match', 'Fouls_per_match', 'Goals_per_match']]"
   ]
  },
  {
   "cell_type": "code",
   "execution_count": 35,
   "id": "025b2f90",
   "metadata": {
    "scrolled": false
   },
   "outputs": [
    {
     "data": {
      "image/png": "[encoded data removed]",
      "text/plain": [
       "<Figure size 720x720 with 2 Axes>"
      ]
     },
     "metadata": {
      "needs_background": "light"
     },
     "output_type": "display_data"
    }
   ],
   "source": [
    "matrix = np.triu(corrs_variables.corr())\n",
    "plt.figure(figsize=(10,10))\n",
    "fig = sns.heatmap(corrs_variables.corr(), annot=True, cmap='Reds', mask=matrix)"
   ]
  },
  {
   "cell_type": "code",
   "execution_count": 36,
   "id": "fd41da5d",
   "metadata": {
    "scrolled": false
   },
   "outputs": [
    {
     "data": {
      "text/plain": [
       "<AxesSubplot:xlabel='Fouls_per_match', ylabel='Yellow_per_match'>"
      ]
     },
     "execution_count": 36,
     "metadata": {},
     "output_type": "execute_result"
    },
    {
     "data": {
      "image/png": "[encoded data removed]",
      "text/plain": [
       "<Figure size 432x288 with 1 Axes>"
      ]
     },
     "metadata": {
      "needs_background": "light"
     },
     "output_type": "display_data"
    }
   ],
   "source": [
    "sns.scatterplot(x=premier.Fouls_per_match, y = premier.Yellow_per_match)"
   ]
  },
  {
   "cell_type": "code",
   "execution_count": 37,
   "id": "c77eaa9c",
   "metadata": {},
   "outputs": [
    {
     "data": {
      "text/plain": [
       "<AxesSubplot:xlabel='Yellow_per_match', ylabel='Count'>"
      ]
     },
     "execution_count": 37,
     "metadata": {},
     "output_type": "execute_result"
    },
    {
     "data": {
      "image/png": "[encoded data removed]",
      "text/plain": [
       "<Figure size 720x288 with 2 Axes>"
      ]
     },
     "metadata": {
      "needs_background": "light"
     },
     "output_type": "display_data"
    }
   ],
   "source": [
    "fig, axs = plt.subplots(nrows=1, ncols=2, figsize=(10, 4))\n",
    "\n",
    "sns.histplot(premier.Fouls_per_match, kde=True, ax=axs[0])\n",
    "sns.rugplot(premier.Fouls_per_match, ax=axs[0])\n",
    "sns.histplot(premier.Yellow_per_match, kde=True, ax=axs[1])\n",
    "sns.rugplot(premier.Yellow_per_match, ax=axs[1])"
   ]
  },
  {
   "cell_type": "code",
   "execution_count": 38,
   "id": "a5b7f3f6",
   "metadata": {},
   "outputs": [
    {
     "data": {
      "image/png": "[encoded data removed]",
      "text/plain": [
       "<Figure size 720x288 with 2 Axes>"
      ]
     },
     "metadata": {
      "needs_background": "light"
     },
     "output_type": "display_data"
    }
   ],
   "source": [
    "fig, axs = plt.subplots(nrows=1, ncols=2, figsize=(10, 4))\n",
    "\n",
    "qqplot(premier.Fouls_per_match, line='s', ax = axs[0])\n",
    "qqplot(premier.Yellow_per_match, line='s', ax = axs[1])\n",
    "\n",
    "plt.show()"
   ]
  },
  {
   "cell_type": "code",
   "execution_count": 39,
   "id": "e0cab0e3",
   "metadata": {},
   "outputs": [
    {
     "name": "stdout",
     "output_type": "stream",
     "text": [
      "Statistics=0.981, p=0.000\n",
      "Statistics=0.963, p=0.000\n"
     ]
    }
   ],
   "source": [
    "stat, p = stats.shapiro(premier.Fouls_per_match)\n",
    "print('Statistics=%.3f, p=%.3f' % (stat, p))\n",
    "\n",
    "stat, p = stats.shapiro(premier.Yellow_per_match)\n",
    "print('Statistics=%.3f, p=%.3f' % (stat, p))"
   ]
  },
  {
   "cell_type": "markdown",
   "id": "818cda30",
   "metadata": {},
   "source": [
    "No segueixen cap distribució normal."
   ]
  },
  {
   "cell_type": "code",
   "execution_count": 40,
   "id": "493c7ae3",
   "metadata": {},
   "outputs": [
    {
     "data": {
      "text/plain": [
       "0.6103253534616767"
      ]
     },
     "execution_count": 40,
     "metadata": {},
     "output_type": "execute_result"
    }
   ],
   "source": [
    "premier.Fouls_per_match.corr(premier.Yellow_per_match, method='spearman')"
   ]
  },
  {
   "cell_type": "code",
   "execution_count": 41,
   "id": "427e921a",
   "metadata": {},
   "outputs": [
    {
     "data": {
      "text/plain": [
       "0.431665651067847"
      ]
     },
     "execution_count": 41,
     "metadata": {},
     "output_type": "execute_result"
    }
   ],
   "source": [
    "premier.Fouls_per_match.corr(premier.Yellow_per_match, method='kendall')"
   ]
  },
  {
   "cell_type": "code",
   "execution_count": 53,
   "id": "4b077221",
   "metadata": {
    "scrolled": true
   },
   "outputs": [
    {
     "name": "stdout",
     "output_type": "stream",
     "text": [
      "Correlación Spearman: r=0.6103253534616767, p-value=0.0000000000000000000000000000000000000000070\n",
      "Correlación Kendall: r=0.431665651067847, p-value=0.00000000000000000000000000000000000021\n"
     ]
    }
   ],
   "source": [
    "r, p = stats.spearmanr(premier.Fouls_per_match, premier.Yellow_per_match)\n",
    "print(f\"Correlación Spearman: r={r}, p-value={p:.43f}\")\n",
    "\n",
    "r, p = stats.kendalltau(premier.Fouls_per_match, premier.Yellow_per_match)\n",
    "print(f\"Correlación Kendall: r={r}, p-value={p:.38f}\")"
   ]
  },
  {
   "cell_type": "code",
   "execution_count": 47,
   "id": "03291887",
   "metadata": {},
   "outputs": [
    {
     "name": "stdout",
     "output_type": "stream",
     "text": [
      "Samples are correlated (reject H0) p=0.000\n"
     ]
    }
   ],
   "source": [
    "alpha = 0.05\n",
    "if p > alpha:\n",
    "    print('Samples are uncorrelated (fail to reject H0) p=%.3f' % p)\n",
    "else:\n",
    "    print('Samples are correlated (reject H0) p=%.3f' % p)"
   ]
  },
  {
   "cell_type": "markdown",
   "id": "7f31fefb",
   "metadata": {},
   "source": [
    "- Exercici 3\n",
    "Continua amb el conjunt de dades de tema esportiu que t'agradi i selecciona tres atributs del conjunt de dades. Calcula el p-valor i digues si rebutja la hipòtesi nul·la agafant un alfa de 5%.\n",
    "\n"
   ]
  },
  {
   "cell_type": "code",
   "execution_count": 43,
   "id": "f7b9f70f",
   "metadata": {},
   "outputs": [
    {
     "data": {
      "text/plain": [
       "array(['Goalkeeper', 'Defender', 'Midfielder', 'Forward'], dtype=object)"
      ]
     },
     "execution_count": 43,
     "metadata": {},
     "output_type": "execute_result"
    }
   ],
   "source": [
    "premier.Position.unique()"
   ]
  },
  {
   "cell_type": "code",
   "execution_count": 44,
   "id": "ef04626b",
   "metadata": {
    "scrolled": true
   },
   "outputs": [
    {
     "data": {
      "text/html": [
       "<div>\n",
       "<style scoped>\n",
       "    .dataframe tbody tr th:only-of-type {\n",
       "        vertical-align: middle;\n",
       "    }\n",
       "\n",
       "    .dataframe tbody tr th {\n",
       "        vertical-align: top;\n",
       "    }\n",
       "\n",
       "    .dataframe thead th {\n",
       "        text-align: right;\n",
       "    }\n",
       "</style>\n",
       "<table border=\"1\" class=\"dataframe\">\n",
       "  <thead>\n",
       "    <tr style=\"text-align: right;\">\n",
       "      <th></th>\n",
       "      <th>Name</th>\n",
       "      <th>Club</th>\n",
       "      <th>Position</th>\n",
       "      <th>Age</th>\n",
       "      <th>Appearances</th>\n",
       "      <th>Wins</th>\n",
       "      <th>Losses</th>\n",
       "      <th>Goals</th>\n",
       "      <th>Assists</th>\n",
       "      <th>Passes</th>\n",
       "      <th>Passes per match</th>\n",
       "      <th>Yellow cards</th>\n",
       "      <th>Red cards</th>\n",
       "      <th>Fouls</th>\n",
       "      <th>Wins_per_match</th>\n",
       "      <th>Goals_per_match</th>\n",
       "      <th>Assists_per_match</th>\n",
       "      <th>Yellow_per_match</th>\n",
       "      <th>Red_per_match</th>\n",
       "      <th>Fouls_per_match</th>\n",
       "    </tr>\n",
       "  </thead>\n",
       "  <tbody>\n",
       "    <tr>\n",
       "      <th>23</th>\n",
       "      <td>Alexandre Lacazette</td>\n",
       "      <td>Arsenal</td>\n",
       "      <td>Forward</td>\n",
       "      <td>29.0</td>\n",
       "      <td>99</td>\n",
       "      <td>46</td>\n",
       "      <td>28</td>\n",
       "      <td>39</td>\n",
       "      <td>16</td>\n",
       "      <td>2045</td>\n",
       "      <td>20.66</td>\n",
       "      <td>11</td>\n",
       "      <td>0</td>\n",
       "      <td>127</td>\n",
       "      <td>0.464646</td>\n",
       "      <td>0.393939</td>\n",
       "      <td>0.161616</td>\n",
       "      <td>0.111111</td>\n",
       "      <td>0.000000</td>\n",
       "      <td>1.282828</td>\n",
       "    </tr>\n",
       "    <tr>\n",
       "      <th>24</th>\n",
       "      <td>Pierre-Emerick Aubameyang</td>\n",
       "      <td>Arsenal</td>\n",
       "      <td>Forward</td>\n",
       "      <td>31.0</td>\n",
       "      <td>87</td>\n",
       "      <td>43</td>\n",
       "      <td>25</td>\n",
       "      <td>55</td>\n",
       "      <td>13</td>\n",
       "      <td>1880</td>\n",
       "      <td>21.61</td>\n",
       "      <td>4</td>\n",
       "      <td>1</td>\n",
       "      <td>30</td>\n",
       "      <td>0.494253</td>\n",
       "      <td>0.632184</td>\n",
       "      <td>0.149425</td>\n",
       "      <td>0.045977</td>\n",
       "      <td>0.011494</td>\n",
       "      <td>0.344828</td>\n",
       "    </tr>\n",
       "    <tr>\n",
       "      <th>25</th>\n",
       "      <td>Nicolas Pépé</td>\n",
       "      <td>Arsenal</td>\n",
       "      <td>Forward</td>\n",
       "      <td>25.0</td>\n",
       "      <td>33</td>\n",
       "      <td>15</td>\n",
       "      <td>9</td>\n",
       "      <td>5</td>\n",
       "      <td>6</td>\n",
       "      <td>723</td>\n",
       "      <td>21.91</td>\n",
       "      <td>4</td>\n",
       "      <td>0</td>\n",
       "      <td>14</td>\n",
       "      <td>0.454545</td>\n",
       "      <td>0.151515</td>\n",
       "      <td>0.181818</td>\n",
       "      <td>0.121212</td>\n",
       "      <td>0.000000</td>\n",
       "      <td>0.424242</td>\n",
       "    </tr>\n",
       "    <tr>\n",
       "      <th>26</th>\n",
       "      <td>Reiss Nelson</td>\n",
       "      <td>Arsenal</td>\n",
       "      <td>Forward</td>\n",
       "      <td>20.0</td>\n",
       "      <td>20</td>\n",
       "      <td>10</td>\n",
       "      <td>5</td>\n",
       "      <td>1</td>\n",
       "      <td>0</td>\n",
       "      <td>286</td>\n",
       "      <td>14.30</td>\n",
       "      <td>1</td>\n",
       "      <td>0</td>\n",
       "      <td>8</td>\n",
       "      <td>0.500000</td>\n",
       "      <td>0.050000</td>\n",
       "      <td>0.000000</td>\n",
       "      <td>0.050000</td>\n",
       "      <td>0.000000</td>\n",
       "      <td>0.400000</td>\n",
       "    </tr>\n",
       "    <tr>\n",
       "      <th>27</th>\n",
       "      <td>Eddie Nketiah</td>\n",
       "      <td>Arsenal</td>\n",
       "      <td>Forward</td>\n",
       "      <td>21.0</td>\n",
       "      <td>23</td>\n",
       "      <td>12</td>\n",
       "      <td>8</td>\n",
       "      <td>4</td>\n",
       "      <td>0</td>\n",
       "      <td>172</td>\n",
       "      <td>7.48</td>\n",
       "      <td>0</td>\n",
       "      <td>1</td>\n",
       "      <td>18</td>\n",
       "      <td>0.521739</td>\n",
       "      <td>0.173913</td>\n",
       "      <td>0.000000</td>\n",
       "      <td>0.000000</td>\n",
       "      <td>0.043478</td>\n",
       "      <td>0.782609</td>\n",
       "    </tr>\n",
       "    <tr>\n",
       "      <th>...</th>\n",
       "      <td>...</td>\n",
       "      <td>...</td>\n",
       "      <td>...</td>\n",
       "      <td>...</td>\n",
       "      <td>...</td>\n",
       "      <td>...</td>\n",
       "      <td>...</td>\n",
       "      <td>...</td>\n",
       "      <td>...</td>\n",
       "      <td>...</td>\n",
       "      <td>...</td>\n",
       "      <td>...</td>\n",
       "      <td>...</td>\n",
       "      <td>...</td>\n",
       "      <td>...</td>\n",
       "      <td>...</td>\n",
       "      <td>...</td>\n",
       "      <td>...</td>\n",
       "      <td>...</td>\n",
       "      <td>...</td>\n",
       "    </tr>\n",
       "    <tr>\n",
       "      <th>545</th>\n",
       "      <td>Jarrod Bowen</td>\n",
       "      <td>West-Ham-United</td>\n",
       "      <td>Forward</td>\n",
       "      <td>23.0</td>\n",
       "      <td>22</td>\n",
       "      <td>4</td>\n",
       "      <td>15</td>\n",
       "      <td>1</td>\n",
       "      <td>4</td>\n",
       "      <td>328</td>\n",
       "      <td>14.91</td>\n",
       "      <td>0</td>\n",
       "      <td>0</td>\n",
       "      <td>8</td>\n",
       "      <td>0.181818</td>\n",
       "      <td>0.045455</td>\n",
       "      <td>0.181818</td>\n",
       "      <td>0.000000</td>\n",
       "      <td>0.000000</td>\n",
       "      <td>0.363636</td>\n",
       "    </tr>\n",
       "    <tr>\n",
       "      <th>546</th>\n",
       "      <td>Sébastien Haller</td>\n",
       "      <td>West-Ham-United</td>\n",
       "      <td>Forward</td>\n",
       "      <td>26.0</td>\n",
       "      <td>34</td>\n",
       "      <td>9</td>\n",
       "      <td>18</td>\n",
       "      <td>7</td>\n",
       "      <td>1</td>\n",
       "      <td>779</td>\n",
       "      <td>22.91</td>\n",
       "      <td>1</td>\n",
       "      <td>0</td>\n",
       "      <td>49</td>\n",
       "      <td>0.264706</td>\n",
       "      <td>0.205882</td>\n",
       "      <td>0.029412</td>\n",
       "      <td>0.029412</td>\n",
       "      <td>0.000000</td>\n",
       "      <td>1.441176</td>\n",
       "    </tr>\n",
       "    <tr>\n",
       "      <th>566</th>\n",
       "      <td>Pedro Neto</td>\n",
       "      <td>Wolverhampton-Wanderers</td>\n",
       "      <td>Forward</td>\n",
       "      <td>20.0</td>\n",
       "      <td>31</td>\n",
       "      <td>14</td>\n",
       "      <td>7</td>\n",
       "      <td>3</td>\n",
       "      <td>4</td>\n",
       "      <td>399</td>\n",
       "      <td>12.87</td>\n",
       "      <td>3</td>\n",
       "      <td>0</td>\n",
       "      <td>16</td>\n",
       "      <td>0.451613</td>\n",
       "      <td>0.096774</td>\n",
       "      <td>0.129032</td>\n",
       "      <td>0.096774</td>\n",
       "      <td>0.000000</td>\n",
       "      <td>0.516129</td>\n",
       "    </tr>\n",
       "    <tr>\n",
       "      <th>567</th>\n",
       "      <td>Raúl Jiménez</td>\n",
       "      <td>Wolverhampton-Wanderers</td>\n",
       "      <td>Forward</td>\n",
       "      <td>29.0</td>\n",
       "      <td>78</td>\n",
       "      <td>32</td>\n",
       "      <td>23</td>\n",
       "      <td>32</td>\n",
       "      <td>13</td>\n",
       "      <td>2108</td>\n",
       "      <td>27.03</td>\n",
       "      <td>7</td>\n",
       "      <td>0</td>\n",
       "      <td>81</td>\n",
       "      <td>0.410256</td>\n",
       "      <td>0.410256</td>\n",
       "      <td>0.166667</td>\n",
       "      <td>0.089744</td>\n",
       "      <td>0.000000</td>\n",
       "      <td>1.038462</td>\n",
       "    </tr>\n",
       "    <tr>\n",
       "      <th>568</th>\n",
       "      <td>Adama Traoré</td>\n",
       "      <td>Wolverhampton-Wanderers</td>\n",
       "      <td>Forward</td>\n",
       "      <td>24.0</td>\n",
       "      <td>105</td>\n",
       "      <td>27</td>\n",
       "      <td>47</td>\n",
       "      <td>5</td>\n",
       "      <td>12</td>\n",
       "      <td>1434</td>\n",
       "      <td>13.66</td>\n",
       "      <td>4</td>\n",
       "      <td>0</td>\n",
       "      <td>80</td>\n",
       "      <td>0.257143</td>\n",
       "      <td>0.047619</td>\n",
       "      <td>0.114286</td>\n",
       "      <td>0.038095</td>\n",
       "      <td>0.000000</td>\n",
       "      <td>0.761905</td>\n",
       "    </tr>\n",
       "  </tbody>\n",
       "</table>\n",
       "<p>90 rows × 20 columns</p>\n",
       "</div>"
      ],
      "text/plain": [
       "                          Name                     Club Position   Age  \\\n",
       "23         Alexandre Lacazette                  Arsenal  Forward  29.0   \n",
       "24   Pierre-Emerick Aubameyang                  Arsenal  Forward  31.0   \n",
       "25                Nicolas Pépé                  Arsenal  Forward  25.0   \n",
       "26                Reiss Nelson                  Arsenal  Forward  20.0   \n",
       "27               Eddie Nketiah                  Arsenal  Forward  21.0   \n",
       "..                         ...                      ...      ...   ...   \n",
       "545               Jarrod Bowen          West-Ham-United  Forward  23.0   \n",
       "546           Sébastien Haller          West-Ham-United  Forward  26.0   \n",
       "566                 Pedro Neto  Wolverhampton-Wanderers  Forward  20.0   \n",
       "567               Raúl Jiménez  Wolverhampton-Wanderers  Forward  29.0   \n",
       "568               Adama Traoré  Wolverhampton-Wanderers  Forward  24.0   \n",
       "\n",
       "     Appearances  Wins  Losses  Goals  Assists  Passes  Passes per match  \\\n",
       "23            99    46      28     39       16    2045             20.66   \n",
       "24            87    43      25     55       13    1880             21.61   \n",
       "25            33    15       9      5        6     723             21.91   \n",
       "26            20    10       5      1        0     286             14.30   \n",
       "27            23    12       8      4        0     172              7.48   \n",
       "..           ...   ...     ...    ...      ...     ...               ...   \n",
       "545           22     4      15      1        4     328             14.91   \n",
       "546           34     9      18      7        1     779             22.91   \n",
       "566           31    14       7      3        4     399             12.87   \n",
       "567           78    32      23     32       13    2108             27.03   \n",
       "568          105    27      47      5       12    1434             13.66   \n",
       "\n",
       "     Yellow cards  Red cards  Fouls  Wins_per_match  Goals_per_match  \\\n",
       "23             11          0    127        0.464646         0.393939   \n",
       "24              4          1     30        0.494253         0.632184   \n",
       "25              4          0     14        0.454545         0.151515   \n",
       "26              1          0      8        0.500000         0.050000   \n",
       "27              0          1     18        0.521739         0.173913   \n",
       "..            ...        ...    ...             ...              ...   \n",
       "545             0          0      8        0.181818         0.045455   \n",
       "546             1          0     49        0.264706         0.205882   \n",
       "566             3          0     16        0.451613         0.096774   \n",
       "567             7          0     81        0.410256         0.410256   \n",
       "568             4          0     80        0.257143         0.047619   \n",
       "\n",
       "     Assists_per_match  Yellow_per_match  Red_per_match  Fouls_per_match  \n",
       "23            0.161616          0.111111       0.000000         1.282828  \n",
       "24            0.149425          0.045977       0.011494         0.344828  \n",
       "25            0.181818          0.121212       0.000000         0.424242  \n",
       "26            0.000000          0.050000       0.000000         0.400000  \n",
       "27            0.000000          0.000000       0.043478         0.782609  \n",
       "..                 ...               ...            ...              ...  \n",
       "545           0.181818          0.000000       0.000000         0.363636  \n",
       "546           0.029412          0.029412       0.000000         1.441176  \n",
       "566           0.129032          0.096774       0.000000         0.516129  \n",
       "567           0.166667          0.089744       0.000000         1.038462  \n",
       "568           0.114286          0.038095       0.000000         0.761905  \n",
       "\n",
       "[90 rows x 20 columns]"
      ]
     },
     "execution_count": 44,
     "metadata": {},
     "output_type": "execute_result"
    }
   ],
   "source": [
    "defenders = premier[premier.Position == 'Forward']\n",
    "defenders"
   ]
  },
  {
   "cell_type": "code",
   "execution_count": 45,
   "id": "5ba7325e",
   "metadata": {},
   "outputs": [],
   "source": [
    "corr_def = defenders[['Name', 'Club', 'Position', 'Age', 'Appearances', 'Passes per match', 'Wins_per_match', 'Assists_per_match', 'Yellow_per_match', 'Red_per_match', 'Fouls_per_match', 'Goals_per_match']]"
   ]
  },
  {
   "cell_type": "code",
   "execution_count": 46,
   "id": "aae5cdc5",
   "metadata": {},
   "outputs": [
    {
     "data": {
      "image/png": "[encoded data removed]",
      "text/plain": [
       "<Figure size 720x720 with 2 Axes>"
      ]
     },
     "metadata": {
      "needs_background": "light"
     },
     "output_type": "display_data"
    }
   ],
   "source": [
    "matrix = np.triu(corr_def.corr())\n",
    "plt.figure(figsize=(10,10))\n",
    "fig = sns.heatmap(corr_def.corr(), annot=True, cmap='Reds', mask=matrix)"
   ]
  }
 ],
 "metadata": {
  "kernelspec": {
   "display_name": "Python 3",
   "language": "python",
   "name": "python3"
  }
 },
 "nbformat": 4,
 "nbformat_minor": 5
}
